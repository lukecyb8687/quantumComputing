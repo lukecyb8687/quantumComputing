{
  "nbformat": 4,
  "nbformat_minor": 0,
  "metadata": {
    "colab": {
      "name": "quantumCircuit.ipynb",
      "provenance": [],
      "toc_visible": true
    },
    "kernelspec": {
      "name": "python3",
      "display_name": "Python 3"
    }
  },
  "cells": [
    {
      "cell_type": "markdown",
      "metadata": {
        "id": "CzGNYYMcAEa-",
        "colab_type": "text"
      },
      "source": [
        "# **Dependencies**"
      ]
    },
    {
      "cell_type": "code",
      "metadata": {
        "id": "kNS1Q0pX0tae",
        "colab_type": "code",
        "colab": {}
      },
      "source": [
        "pip install qiskit-terra[visualization]"
      ],
      "execution_count": 0,
      "outputs": []
    },
    {
      "cell_type": "code",
      "metadata": {
        "id": "WklQEcoe1FQG",
        "colab_type": "code",
        "colab": {}
      },
      "source": [
        "import qiskit as qk"
      ],
      "execution_count": 0,
      "outputs": []
    },
    {
      "cell_type": "code",
      "metadata": {
        "id": "W6XiiBhR2ZV9",
        "colab_type": "code",
        "colab": {}
      },
      "source": [
        "import matplotlib.pyplot as plt\n"
      ],
      "execution_count": 0,
      "outputs": []
    },
    {
      "cell_type": "markdown",
      "metadata": {
        "id": "r9wx2cYq1kpP",
        "colab_type": "text"
      },
      "source": [
        "# **Creating the quantum bits & classical bits**"
      ]
    },
    {
      "cell_type": "code",
      "metadata": {
        "id": "iDablsVF1ctJ",
        "colab_type": "code",
        "colab": {}
      },
      "source": [
        "qb = qk.QuantumRegister(2)\n",
        "cb = qk.ClassicalRegister(2)"
      ],
      "execution_count": 0,
      "outputs": []
    },
    {
      "cell_type": "markdown",
      "metadata": {
        "id": "wPuo3g5L1_A1",
        "colab_type": "text"
      },
      "source": [
        "# **Creating the circuit**"
      ]
    },
    {
      "cell_type": "code",
      "metadata": {
        "id": "vyZ_Rxs512_H",
        "colab_type": "code",
        "colab": {
          "base_uri": "https://localhost:8080/",
          "height": 167
        },
        "outputId": "62ef87ab-37f7-4532-a6df-8550b462838f"
      },
      "source": [
        "quantumCircuit = qk.QuantumCircuit(qb,cb)\n",
        "quantumCircuit.draw()"
      ],
      "execution_count": 20,
      "outputs": [
        {
          "output_type": "execute_result",
          "data": {
            "text/html": [
              "<pre style=\"word-wrap: normal;white-space: pre;background: #fff0;line-height: 1.1;font-family: &quot;Courier New&quot;,Courier,monospace\">      \n",
              "q0_0: \n",
              "      \n",
              "q0_1: \n",
              "      \n",
              "c0_0: \n",
              "      \n",
              "c0_1: \n",
              "      </pre>"
            ],
            "text/plain": [
              "      \n",
              "q0_0: \n",
              "      \n",
              "q0_1: \n",
              "      \n",
              "c0_0: \n",
              "      \n",
              "c0_1: \n",
              "      "
            ]
          },
          "metadata": {
            "tags": []
          },
          "execution_count": 20
        }
      ]
    },
    {
      "cell_type": "markdown",
      "metadata": {
        "id": "elhmHElm2Nxk",
        "colab_type": "text"
      },
      "source": [
        "We will be focusing on the following gates:\n",
        "\n",
        "\n",
        "1.   Hadamard Gate\n",
        "2.   Controlled-NOT Gate\n",
        "\n",
        "### Entanglement creation\n",
        "\n",
        "In order to create entanglement, we need to introduce the Hadamard Gate on the first quantum bit. The Hadamard Gate recieves an single quantum bit input, and outputs a bit with 50% probability of being either 0 or 1"
      ]
    },
    {
      "cell_type": "code",
      "metadata": {
        "id": "-U_Suxrl14Fc",
        "colab_type": "code",
        "colab": {
          "base_uri": "https://localhost:8080/",
          "height": 185
        },
        "outputId": "108f6d31-34a2-485e-f591-a0cca9367f49"
      },
      "source": [
        "quantumCircuit.h(qb[0])\n",
        "quantumCircuit.draw(output='mpl')"
      ],
      "execution_count": 21,
      "outputs": [
        {
          "output_type": "execute_result",
          "data": {
            "image/png": "[encoded data removed]",
            "text/plain": [
              "<Figure size 249.228x204.68 with 1 Axes>"
            ]
          },
          "metadata": {
            "tags": []
          },
          "execution_count": 21
        }
      ]
    },
    {
      "cell_type": "markdown",
      "metadata": {
        "id": "BtXQWIri3qRJ",
        "colab_type": "text"
      },
      "source": [
        "Applying the Controlled-NOT Gate, where the control quantum bit is the 1st Qubit, while the target quantum bit is the 2nd Qubit. The CNOT Gate flips the Qubit from ket 0 to ket 1 *iff* the control Qubit is ket 1."
      ]
    },
    {
      "cell_type": "code",
      "metadata": {
        "id": "P7UYvUws2HKs",
        "colab_type": "code",
        "colab": {
          "base_uri": "https://localhost:8080/",
          "height": 185
        },
        "outputId": "a78f5778-7281-4034-a779-bc2c08a65001"
      },
      "source": [
        "quantumCircuit.cx(qb[0],qb[1])\n",
        "quantumCircuit.draw(output='mpl')"
      ],
      "execution_count": 22,
      "outputs": [
        {
          "output_type": "execute_result",
          "data": {
            "image/png": "[encoded data removed]",
            "text/plain": [
              "<Figure size 309.428x204.68 with 1 Axes>"
            ]
          },
          "metadata": {
            "tags": []
          },
          "execution_count": 22
        }
      ]
    },
    {
      "cell_type": "markdown",
      "metadata": {
        "id": "GhTPF5zp4lAK",
        "colab_type": "text"
      },
      "source": [
        "With these 2 simple operations, we an now measure the Qubits, and store these measurements into the classical bits register"
      ]
    },
    {
      "cell_type": "code",
      "metadata": {
        "id": "A_6VBZrf4gDc",
        "colab_type": "code",
        "colab": {
          "base_uri": "https://localhost:8080/",
          "height": 185
        },
        "outputId": "974f6b91-b0e3-4188-b399-8c379f8e83a7"
      },
      "source": [
        "quantumCircuit.measure(qb,cb)\n",
        "quantumCircuit.draw(output='mpl')"
      ],
      "execution_count": 23,
      "outputs": [
        {
          "output_type": "execute_result",
          "data": {
            "image/png": "[encoded data removed]",
            "text/plain": [
              "<Figure size 429.828x204.68 with 1 Axes>"
            ]
          },
          "metadata": {
            "tags": []
          },
          "execution_count": 23
        }
      ]
    },
    {
      "cell_type": "markdown",
      "metadata": {
        "id": "23a2_2Yr48KE",
        "colab_type": "text"
      },
      "source": [
        "# **Running the quantum circuit**"
      ]
    },
    {
      "cell_type": "markdown",
      "metadata": {
        "id": "En4nw3t65CKs",
        "colab_type": "text"
      },
      "source": [
        "## Simulation\n",
        "We first run a simulation of the circuit using Aer's *QasmSimulator* (Quantum assembly"
      ]
    },
    {
      "cell_type": "code",
      "metadata": {
        "id": "UzO-31v245oB",
        "colab_type": "code",
        "colab": {}
      },
      "source": [
        "simulator = qk.BasicAer.get_backend('qasm_simulator')"
      ],
      "execution_count": 0,
      "outputs": []
    },
    {
      "cell_type": "markdown",
      "metadata": {
        "id": "cVRrtLoB5ZnX",
        "colab_type": "text"
      },
      "source": [
        "Execute the quantum circuit that was built previously using the *QasmSimulator* as the backend."
      ]
    },
    {
      "cell_type": "code",
      "metadata": {
        "id": "w8YuM7sP5Vj0",
        "colab_type": "code",
        "colab": {}
      },
      "source": [
        "result = qk.execute(quantumCircuit, backend=simulator).result()"
      ],
      "execution_count": 0,
      "outputs": []
    },
    {
      "cell_type": "code",
      "metadata": {
        "id": "M2AZqLBT5pJp",
        "colab_type": "code",
        "colab": {}
      },
      "source": [
        "from qiskit.tools.visualization import plot_histogram"
      ],
      "execution_count": 0,
      "outputs": []
    },
    {
      "cell_type": "markdown",
      "metadata": {
        "id": "VQa_b2i858mD",
        "colab_type": "text"
      },
      "source": [
        "###Visualization of simulation results using a histogram"
      ]
    },
    {
      "cell_type": "code",
      "metadata": {
        "id": "YpfaS8ij5zYL",
        "colab_type": "code",
        "colab": {
          "base_uri": "https://localhost:8080/",
          "height": 336
        },
        "outputId": "5bcd2bf0-bd4f-43b7-eb40-1e44ce607b3e"
      },
      "source": [
        "counts = result.get_counts(quantumCircuit)\n",
        "plot_histogram(counts)"
      ],
      "execution_count": 28,
      "outputs": [
        {
          "output_type": "execute_result",
          "data": {
            "image/png": "[encoded data removed]",
            "text/plain": [
              "<Figure size 504x360 with 1 Axes>"
            ]
          },
          "metadata": {
            "tags": []
          },
          "execution_count": 28
        }
      ]
    },
    {
      "cell_type": "markdown",
      "metadata": {
        "id": "eJBLS9jk9yj1",
        "colab_type": "text"
      },
      "source": [
        "## Connecting to an IBM quantum computer\n",
        "First, you would have to create an account with IBM quantum experience. Generate an API at your *'My Account'* page at the top right. Afterwhich, you can choose a backend that is being allocated to your account (depending on location, IBM allocates the nearest quantum computer to you) For me, I chose the **'ibmq_qasm_simulator'** backend system which can hold and manipulate up to a maximum of 32 qubits. "
      ]
    },
    {
      "cell_type": "code",
      "metadata": {
        "id": "wJUtarwM9oIf",
        "colab_type": "code",
        "colab": {}
      },
      "source": [
        "def ibmAccountLogin(API):\n",
        "  qk.IBMQ.save_acount(API)\n",
        "  qk.IBMQ.load_account()"
      ],
      "execution_count": 0,
      "outputs": []
    },
    {
      "cell_type": "markdown",
      "metadata": {
        "id": "_6fDH3hJ-pGg",
        "colab_type": "text"
      },
      "source": [
        "### Account Login"
      ]
    },
    {
      "cell_type": "code",
      "metadata": {
        "id": "LtkXjvUl7N4H",
        "colab_type": "code",
        "colab": {
          "base_uri": "https://localhost:8080/",
          "height": 50
        },
        "outputId": "e88644d0-c51c-423a-c4d0-ab2233b2d3fe"
      },
      "source": [
        "ibmAccountLogin('2ff99e084b692bc528467d5735476a3df7b1147e60c33c0d216e1a23447abe32139183445b7c70b2106d7559afa9a2a7edd132ab0678177167fe985bc454fd3e')"
      ],
      "execution_count": 42,
      "outputs": [
        {
          "output_type": "stream",
          "text": [
            "configrc.store_credentials:WARNING:2020-04-15 03:49:34,131: Credentials already present. Set overwrite=True to overwrite.\n",
            "ibmqfactory.load_account:WARNING:2020-04-15 03:49:34,892: Credentials are already in use. The existing account in the session will be replaced.\n"
          ],
          "name": "stderr"
        }
      ]
    },
    {
      "cell_type": "markdown",
      "metadata": {
        "id": "pnyVYg-D-lAo",
        "colab_type": "text"
      },
      "source": [
        "### Choose Provider"
      ]
    },
    {
      "cell_type": "code",
      "metadata": {
        "id": "lsjQtVbC8tn4",
        "colab_type": "code",
        "colab": {}
      },
      "source": [
        "provider = qk.IBMQ.get_provider('ibm-q')"
      ],
      "execution_count": 0,
      "outputs": []
    },
    {
      "cell_type": "markdown",
      "metadata": {
        "id": "GFqsHRqq-rMn",
        "colab_type": "text"
      },
      "source": [
        "### Choose Backend"
      ]
    },
    {
      "cell_type": "code",
      "metadata": {
        "id": "dtlM0gi49d4R",
        "colab_type": "code",
        "colab": {}
      },
      "source": [
        "backend = provider.get_backend('ibmq_qasm_simulator')"
      ],
      "execution_count": 0,
      "outputs": []
    },
    {
      "cell_type": "markdown",
      "metadata": {
        "id": "YOEZTklk-w3q",
        "colab_type": "text"
      },
      "source": [
        "### Allocate job to quantum computer"
      ]
    },
    {
      "cell_type": "code",
      "metadata": {
        "id": "mvR8ErbP9fSY",
        "colab_type": "code",
        "colab": {}
      },
      "source": [
        "job = qk.execute(quantumCircuit, backend = backend)"
      ],
      "execution_count": 0,
      "outputs": []
    },
    {
      "cell_type": "code",
      "metadata": {
        "id": "7Xrllunb9kUB",
        "colab_type": "code",
        "colab": {}
      },
      "source": [
        "from qiskit.tools.monitor import job_monitor"
      ],
      "execution_count": 0,
      "outputs": []
    },
    {
      "cell_type": "markdown",
      "metadata": {
        "id": "nYR5StMD_C8r",
        "colab_type": "text"
      },
      "source": [
        "Depending on how busy the quantum backend servers are at that time, the job status may vary from \"queued\" to \"successfully run\""
      ]
    },
    {
      "cell_type": "code",
      "metadata": {
        "id": "dDxQ6kFZ-9Y8",
        "colab_type": "code",
        "colab": {
          "base_uri": "https://localhost:8080/",
          "height": 33
        },
        "outputId": "373b124b-8199-4c77-fbcb-1f7226cf3d38"
      },
      "source": [
        "job_monitor(job)"
      ],
      "execution_count": 51,
      "outputs": [
        {
          "output_type": "stream",
          "text": [
            "\rJob Status: job has successfully run\n"
          ],
          "name": "stdout"
        }
      ]
    },
    {
      "cell_type": "markdown",
      "metadata": {
        "id": "PSeNh2ZgANDk",
        "colab_type": "text"
      },
      "source": [
        "### Actual results visualization\n",
        "Notice the difference between the actual results and simulation. Figure out why! "
      ]
    },
    {
      "cell_type": "code",
      "metadata": {
        "id": "flunnhdM-_85",
        "colab_type": "code",
        "colab": {
          "base_uri": "https://localhost:8080/",
          "height": 331
        },
        "outputId": "5f0b361a-c975-41e3-c481-5cf1fe5620dd"
      },
      "source": [
        "result = job.result()\n",
        "plot_histogram(result.get_counts(quantumCircuit))"
      ],
      "execution_count": 52,
      "outputs": [
        {
          "output_type": "execute_result",
          "data": {
            "image/png": "[encoded data removed]",
            "text/plain": [
              "<Figure size 504x360 with 1 Axes>"
            ]
          },
          "metadata": {
            "tags": []
          },
          "execution_count": 52
        }
      ]
    },
    {
      "cell_type": "markdown",
      "metadata": {
        "id": "H1GxrNMUAje3",
        "colab_type": "text"
      },
      "source": [
        "# **Quantum Teleportation**"
      ]
    },
    {
      "cell_type": "markdown",
      "metadata": {
        "id": "7ObRsAP1BtX5",
        "colab_type": "text"
      },
      "source": [
        "## Creating Qubits and Classical bits\n",
        "We create 3 Qubits and 3 Classical bits"
      ]
    },
    {
      "cell_type": "code",
      "metadata": {
        "id": "-kQNrXKj_W6k",
        "colab_type": "code",
        "colab": {
          "base_uri": "https://localhost:8080/",
          "height": 276
        },
        "outputId": "5a5b4634-33fb-4609-8230-bc5b61bb51fe"
      },
      "source": [
        "qr = qk.QuantumRegister(3)\n",
        "crz = qk.ClassicalRegister(1)\n",
        "crx = qk.ClassicalRegister(1)\n",
        "circuit = qk.QuantumCircuit(qr,crz,crx)\n",
        "circuit.draw(output = 'mpl')"
      ],
      "execution_count": 188,
      "outputs": [
        {
          "output_type": "execute_result",
          "data": {
            "image/png": "[encoded data removed]",
            "text/plain": [
              "<Figure size 189.028x325.08 with 1 Axes>"
            ]
          },
          "metadata": {
            "tags": []
          },
          "execution_count": 188
        }
      ]
    },
    {
      "cell_type": "markdown",
      "metadata": {
        "id": "x3eWhhHzcqwk",
        "colab_type": "text"
      },
      "source": [
        " ## Initializing Initial State\n",
        " We shall perform a simple initialization by transforming the initial state of Qubit_0, which is |0>, to ket |1>, by simply applying a X gate"
      ]
    },
    {
      "cell_type": "code",
      "metadata": {
        "id": "Svoz5Csxczu8",
        "colab_type": "code",
        "colab": {}
      },
      "source": [
        "import numpy as np\n",
        "from qiskit.extensions import Initialize\n",
        "import math"
      ],
      "execution_count": 0,
      "outputs": []
    },
    {
      "cell_type": "code",
      "metadata": {
        "colab_type": "code",
        "outputId": "ea1797c1-89d5-49c7-e3c2-368e5e151375",
        "id": "jF1XyN-4yOIg",
        "colab": {
          "base_uri": "https://localhost:8080/",
          "height": 276
        }
      },
      "source": [
        "#psi = [0.+1.j/math.sqrt(2),1/math.sqrt(2)+0.j]\n",
        "#circuit.initialize(psi, [0])\n",
        "circuit.x(0)\n",
        "circuit.draw(output='mpl')\n"
      ],
      "execution_count": 189,
      "outputs": [
        {
          "output_type": "execute_result",
          "data": {
            "image/png": "[encoded data removed]",
            "text/plain": [
              "<Figure size 249.228x325.08 with 1 Axes>"
            ]
          },
          "metadata": {
            "tags": []
          },
          "execution_count": 189
        }
      ]
    },
    {
      "cell_type": "markdown",
      "metadata": {
        "id": "18K4ADDuB63S",
        "colab_type": "text"
      },
      "source": [
        "## Entanglement Creation\n",
        "\n",
        "1.   We first create a hadamard gate on the Qubit_1. This transfers Qubit_1 into the X-basis  ( |+⟩  and  |−⟩ ).\n",
        "2.    Then, a CNOT gate (control = Qubit_1, target = Qubit_2). \n",
        "\n",
        "This method is known as creating a Bell pair. \n",
        "\n"
      ]
    },
    {
      "cell_type": "code",
      "metadata": {
        "id": "4ytvDLp3BBwx",
        "colab_type": "code",
        "colab": {
          "base_uri": "https://localhost:8080/",
          "height": 276
        },
        "outputId": "0c9aae88-7df4-4b2b-bfbe-84b8197368be"
      },
      "source": [
        "def bell_pair(circuit,a,b):\n",
        "  circuit.barrier()\n",
        "  circuit.h(a)\n",
        "  circuit.cx(a,b)\n",
        "\n",
        "\n",
        "bell_pair(circuit,1,2)\n",
        "circuit.draw(output='mpl')"
      ],
      "execution_count": 190,
      "outputs": [
        {
          "output_type": "execute_result",
          "data": {
            "image/png": "[encoded data removed]",
            "text/plain": [
              "<Figure size 429.828x325.08 with 1 Axes>"
            ]
          },
          "metadata": {
            "tags": []
          },
          "execution_count": 190
        }
      ]
    },
    {
      "cell_type": "markdown",
      "metadata": {
        "id": "Rj-uBFuWCNqH",
        "colab_type": "text"
      },
      "source": [
        "Another CNOT gate (control = Qubit_0, target= Qubit_1). And another hadamard gate on Qubit_0."
      ]
    },
    {
      "cell_type": "code",
      "metadata": {
        "id": "926a2cs6BLLt",
        "colab_type": "code",
        "colab": {
          "base_uri": "https://localhost:8080/",
          "height": 276
        },
        "outputId": "22f114cd-14bd-4053-e5b9-5897e795fee6"
      },
      "source": [
        "def psiControl(circuit,psi,a):\n",
        "  circuit.barrier()\n",
        "  circuit.cx(psi,a)\n",
        "  circuit.h(psi)\n",
        "\n",
        "psiControl(circuit,0,1)\n",
        "circuit.draw(output='mpl')"
      ],
      "execution_count": 191,
      "outputs": [
        {
          "output_type": "execute_result",
          "data": {
            "image/png": "[encoded data removed]",
            "text/plain": [
              "<Figure size 610.428x325.08 with 1 Axes>"
            ]
          },
          "metadata": {
            "tags": []
          },
          "execution_count": 191
        }
      ]
    },
    {
      "cell_type": "markdown",
      "metadata": {
        "id": "oR0QVZwvCa0O",
        "colab_type": "text"
      },
      "source": [
        "## Storage of measurements\n",
        "Storing the measurements of Qubit_0 and Qubit_1 into the respective classical registers\n",
        "\n",
        "Since only 2 bits are being measured, we can have 4 possible classical bits outcomes: \n",
        "\n",
        "1.   00\n",
        "2.   01\n",
        "3.   10\n",
        "4.   11\n",
        "\n"
      ]
    },
    {
      "cell_type": "code",
      "metadata": {
        "id": "uOqcjcndBXk5",
        "colab_type": "code",
        "colab": {
          "base_uri": "https://localhost:8080/",
          "height": 276
        },
        "outputId": "88f29c18-4ebd-48d6-e1d8-a4cd334ec294"
      },
      "source": [
        "def measureStorage(circuit,a,b):\n",
        "  '''\n",
        "  Measuring Qubit a and Qubit b, and storing the result in 2 classical bits\n",
        "  '''\n",
        "  circuit.barrier()\n",
        "  circuit.measure([a,b],[0,1])\n",
        "  circuit.draw(output='mpl')\n",
        "\n",
        "measureStorage(circuit,0,1)\n",
        "circuit.draw(output='mpl')"
      ],
      "execution_count": 192,
      "outputs": [
        {
          "output_type": "execute_result",
          "data": {
            "image/png": "[encoded data removed]",
            "text/plain": [
              "<Figure size 791.028x325.08 with 1 Axes>"
            ]
          },
          "metadata": {
            "tags": []
          },
          "execution_count": 192
        }
      ]
    },
    {
      "cell_type": "markdown",
      "metadata": {
        "id": "jGpfkaNc67ab",
        "colab_type": "text"
      },
      "source": [
        "Now, we have a few different possiblities:\n",
        "\n",
        "\n",
        "1.   If the classical register stores (01), we apply the X gate, of matrix [[0,1],[1,0]]\n",
        "2.   If the classical register stores (10), we apply the Z gate, of matrix [[1,0],0,-1]]\n",
        "3.   If the classical register stores (11), we apply the ZX gate, which is a tensor multiplication of both matrices to the quantum state\n",
        "\n"
      ]
    },
    {
      "cell_type": "code",
      "metadata": {
        "id": "cfaKNW32BnPS",
        "colab_type": "code",
        "colab": {
          "base_uri": "https://localhost:8080/",
          "height": 276
        },
        "outputId": "b59b20b9-5384-4a1d-b230-e44888cfcf6e"
      },
      "source": [
        "def gateTransform(circuit,targetQubit,crz,crx):\n",
        "    circuit.barrier()\n",
        "    #circuit.cx(1,2)\n",
        "    #circuit.cz(0,2)\n",
        "    circuit.z(targetQubit).c_if(crz,1)\n",
        "    circuit.x(targetQubit).c_if(crx,1)\n",
        "    circuit.draw(output='mpl')\n",
        "\n",
        "gateTransform(circuit,2,crz,crx)\n",
        "circuit.draw(output='mpl')"
      ],
      "execution_count": 194,
      "outputs": [
        {
          "output_type": "execute_result",
          "data": {
            "image/png": "[encoded data removed]",
            "text/plain": [
              "<Figure size 971.628x325.08 with 1 Axes>"
            ]
          },
          "metadata": {
            "tags": []
          },
          "execution_count": 194
        }
      ]
    },
    {
      "cell_type": "markdown",
      "metadata": {
        "id": "Jilfu4si7rAK",
        "colab_type": "text"
      },
      "source": [
        "## Results Visualization\n",
        "\n",
        "As you can see, we have a 100% chance of ensuring the measurement of Qubit_2 to be in the state |1>. \n",
        "\n",
        "Hence, we have successsfully teleported the state from Qubit_0 to Qubit_2."
      ]
    },
    {
      "cell_type": "code",
      "metadata": {
        "id": "Pf-ECtMoCz3V",
        "colab_type": "code",
        "colab": {
          "base_uri": "https://localhost:8080/",
          "height": 351
        },
        "outputId": "69c1dd3f-51a8-438f-8a51-f0487156d519"
      },
      "source": [
        "crResult = qk.ClassicalRegister(1) # Adding in another classical register to view results\n",
        "circuit.add_register(crResult)\n",
        "circuit.measure(2,2)\n",
        "circuit.draw(output='mpl')\n",
        "\n",
        "simulator = qk.Aer.get_backend('qasm_simulator')\n",
        "result = qk.execute(circuit, backend = simulator, shots = 1000).result()\n",
        "counts = result.get_counts()\n",
        "plot_histogram(counts)"
      ],
      "execution_count": 196,
      "outputs": [
        {
          "output_type": "execute_result",
          "data": {
            "image/png": "[encoded data removed]",
            "text/plain": [
              "<Figure size 504x360 with 1 Axes>"
            ]
          },
          "metadata": {
            "tags": []
          },
          "execution_count": 196
        }
      ]
    },
    {
      "cell_type": "markdown",
      "metadata": {
        "id": "7h2-ogaX84kF",
        "colab_type": "text"
      },
      "source": [
        "## IBM quantum run\n",
        "Now, once again, let us hook up to our nearest IBM quantum computer and run the simulation!"
      ]
    },
    {
      "cell_type": "code",
      "metadata": {
        "id": "z8jkn4JZ8p4s",
        "colab_type": "code",
        "colab": {
          "base_uri": "https://localhost:8080/",
          "height": 365
        },
        "outputId": "4b5ac3c4-e82c-4a4c-f999-503499738408"
      },
      "source": [
        "job = qk.execute(circuit, backend = backend)\n",
        "job_monitor(job)\n",
        "result = job.result()\n",
        "plot_histogram(result.get_counts(circuit))"
      ],
      "execution_count": 197,
      "outputs": [
        {
          "output_type": "stream",
          "text": [
            "Job Status: job has successfully run\n"
          ],
          "name": "stdout"
        },
        {
          "output_type": "execute_result",
          "data": {
            "image/png": "[encoded data removed]",
            "text/plain": [
              "<Figure size 504x360 with 1 Axes>"
            ]
          },
          "metadata": {
            "tags": []
          },
          "execution_count": 197
        }
      ]
    },
    {
      "cell_type": "code",
      "metadata": {
        "id": "fuMKAfzg8z_U",
        "colab_type": "code",
        "colab": {}
      },
      "source": [
        ""
      ],
      "execution_count": 0,
      "outputs": []
    }
  ]
}